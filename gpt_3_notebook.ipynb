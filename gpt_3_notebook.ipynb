{
  "nbformat": 4,
  "nbformat_minor": 0,
  "metadata": {
    "colab": {
      "name": "gpt-3-notebook.ipynb",
      "provenance": [],
      "collapsed_sections": []
    },
    "kernelspec": {
      "name": "python3",
      "display_name": "Python 3"
    }
  },
  "cells": [
    {
      "cell_type": "code",
      "metadata": {
        "id": "heIf5_ducY8T",
        "colab": {
          "base_uri": "https://localhost:8080/"
        },
        "outputId": "8c81df1a-949d-4c56-be67-47f95b404fd0"
      },
      "source": [
        "!pip install openai"
      ],
      "execution_count": 41,
      "outputs": [
        {
          "output_type": "stream",
          "name": "stdout",
          "text": [
            "Requirement already satisfied: openai in /usr/local/lib/python3.7/dist-packages (0.11.5)\n",
            "Requirement already satisfied: pandas>=1.2.3 in /usr/local/lib/python3.7/dist-packages (from openai) (1.3.5)\n",
            "Requirement already satisfied: openpyxl>=3.0.7 in /usr/local/lib/python3.7/dist-packages (from openai) (3.0.9)\n",
            "Requirement already satisfied: requests>=2.20 in /usr/local/lib/python3.7/dist-packages (from openai) (2.23.0)\n",
            "Requirement already satisfied: pandas-stubs>=1.1.0.11 in /usr/local/lib/python3.7/dist-packages (from openai) (1.2.0.39)\n",
            "Requirement already satisfied: tqdm in /usr/local/lib/python3.7/dist-packages (from openai) (4.62.3)\n",
            "Requirement already satisfied: et-xmlfile in /usr/local/lib/python3.7/dist-packages (from openpyxl>=3.0.7->openai) (1.1.0)\n",
            "Requirement already satisfied: python-dateutil>=2.7.3 in /usr/local/lib/python3.7/dist-packages (from pandas>=1.2.3->openai) (2.8.2)\n",
            "Requirement already satisfied: pytz>=2017.3 in /usr/local/lib/python3.7/dist-packages (from pandas>=1.2.3->openai) (2018.9)\n",
            "Requirement already satisfied: numpy>=1.17.3 in /usr/local/lib/python3.7/dist-packages (from pandas>=1.2.3->openai) (1.19.5)\n",
            "Requirement already satisfied: typing-extensions>=3.7.4.3 in /usr/local/lib/python3.7/dist-packages (from pandas-stubs>=1.1.0.11->openai) (3.10.0.2)\n",
            "Requirement already satisfied: six>=1.5 in /usr/local/lib/python3.7/dist-packages (from python-dateutil>=2.7.3->pandas>=1.2.3->openai) (1.15.0)\n",
            "Requirement already satisfied: idna<3,>=2.5 in /usr/local/lib/python3.7/dist-packages (from requests>=2.20->openai) (2.10)\n",
            "Requirement already satisfied: certifi>=2017.4.17 in /usr/local/lib/python3.7/dist-packages (from requests>=2.20->openai) (2021.10.8)\n",
            "Requirement already satisfied: chardet<4,>=3.0.2 in /usr/local/lib/python3.7/dist-packages (from requests>=2.20->openai) (3.0.4)\n",
            "Requirement already satisfied: urllib3!=1.25.0,!=1.25.1,<1.26,>=1.21.1 in /usr/local/lib/python3.7/dist-packages (from requests>=2.20->openai) (1.24.3)\n"
          ]
        }
      ]
    },
    {
      "cell_type": "code",
      "metadata": {
        "id": "JIObOT-ybumY"
      },
      "source": [
        "import json\n",
        "import openai"
      ],
      "execution_count": 42,
      "outputs": []
    },
    {
      "cell_type": "code",
      "metadata": {
        "id": "m42z9jQxqA2b"
      },
      "source": [
        "with open('key.json') as f:\n",
        "    data = json.load(f)"
      ],
      "execution_count": 43,
      "outputs": []
    },
    {
      "cell_type": "code",
      "metadata": {
        "id": "75Yg2gB7p3Q0"
      },
      "source": [
        "openai.api_key = data[\"API_KEY\"]"
      ],
      "execution_count": 44,
      "outputs": []
    },
    {
      "cell_type": "code",
      "source": [
        "def set_openai_key(key):\n",
        "    \"\"\"Sets OpenAI key.\"\"\"\n",
        "    openai.api_key = key\n",
        "\n",
        "class Example():\n",
        "    \"\"\"Stores an input, output pair and formats it to prime the model.\"\"\"\n",
        "\n",
        "    def __init__(self, inp, out):\n",
        "        self.input = inp\n",
        "        self.output = out\n",
        "\n",
        "    def get_input(self):\n",
        "        \"\"\"Returns the input of the example.\"\"\"\n",
        "        return self.input\n",
        "\n",
        "    def get_output(self):\n",
        "        \"\"\"Returns the intended output of the example.\"\"\"\n",
        "        return self.output\n",
        "\n",
        "    def format(self):\n",
        "        \"\"\"Formats the input, output pair.\"\"\"\n",
        "        return f\"input: {self.input}\\noutput: {self.output}\\n\"\n",
        "\n",
        "\n",
        "class GPT:\n",
        "    \"\"\"The main class for a user to interface with the OpenAI API.\n",
        "    A user can add examples and set parameters of the API request.\"\"\"\n",
        "\n",
        "    def __init__(self, engine='davinci',\n",
        "                 temperature=0.5,\n",
        "                 max_tokens=100):\n",
        "        self.examples = []\n",
        "        self.engine = engine\n",
        "        self.temperature = temperature\n",
        "        self.max_tokens = max_tokens\n",
        "\n",
        "    def add_example(self, ex):\n",
        "        \"\"\"Adds an example to the object. Example must be an instance\n",
        "        of the Example class.\"\"\"\n",
        "        assert isinstance(ex, Example), \"Please create an Example object.\"\n",
        "        self.examples.append(ex.format())\n",
        "\n",
        "    def get_prime_text(self):\n",
        "        \"\"\"Formats all examples to prime the model.\"\"\"\n",
        "        return '\\n'.join(self.examples) + '\\n'\n",
        "\n",
        "    def get_engine(self):\n",
        "        \"\"\"Returns the engine specified for the API.\"\"\"\n",
        "        return self.engine\n",
        "\n",
        "    def get_temperature(self):\n",
        "        \"\"\"Returns the temperature specified for the API.\"\"\"\n",
        "        return self.temperature\n",
        "\n",
        "    def get_max_tokens(self):\n",
        "        \"\"\"Returns the max tokens specified for the API.\"\"\"\n",
        "        return self.max_tokens\n",
        "\n",
        "    def craft_query(self, prompt):\n",
        "        \"\"\"Creates the query for the API request.\"\"\"\n",
        "        return self.get_prime_text() + \"input: \" + prompt + \"\\n\"\n",
        "\n",
        "    def submit_request(self, prompt):\n",
        "        \"\"\"Calls the OpenAI API with the specified parameters.\"\"\"\n",
        "        response = openai.Completion.create(engine=self.get_engine(),\n",
        "                                            prompt=self.craft_query(prompt),\n",
        "                                            max_tokens=self.get_max_tokens(),\n",
        "                                            temperature=self.get_temperature(),\n",
        "                                            top_p=1,\n",
        "                                            n=1,\n",
        "                                            stream=False,\n",
        "                                            stop=\"\\ninput:\")\n",
        "        return response\n",
        "\n",
        "    def get_top_reply(self, prompt):\n",
        "        \"\"\"Obtains the best result as returned by the API.\"\"\"\n",
        "        response = self.submit_request(prompt)\n",
        "        return response['choices'][0]['text']"
      ],
      "metadata": {
        "id": "mjfOoBtB6VhP"
      },
      "execution_count": 45,
      "outputs": []
    },
    {
      "cell_type": "code",
      "metadata": {
        "id": "N3sAHxJrhBzK"
      },
      "source": [
        ""
      ],
      "execution_count": 45,
      "outputs": []
    },
    {
      "cell_type": "code",
      "metadata": {
        "id": "XiV0D9PihB2N"
      },
      "source": [
        "gpt = GPT(engine=\"davinci\",\n",
        "          temperature=0.5,\n",
        "          max_tokens=100)"
      ],
      "execution_count": 46,
      "outputs": []
    },
    {
      "cell_type": "markdown",
      "metadata": {
        "id": "WwVcHYMOvGiU"
      },
      "source": [
        "# Adding Examples for GPT Model"
      ]
    },
    {
      "cell_type": "code",
      "metadata": {
        "id": "0iLR1Y6YqTh7"
      },
      "source": [
        "gpt.add_example(Example('Fetch unique values of DEPARTMENT from Worker table.', \n",
        "                        'Select distinct DEPARTMENT from Worker;'))"
      ],
      "execution_count": 47,
      "outputs": []
    },
    {
      "cell_type": "code",
      "metadata": {
        "id": "x28YlU1-qrCW"
      },
      "source": [
        "gpt.add_example(Example('Print the first three characters of FIRST_NAME from Worker table.', \n",
        "                        'Select substring(FIRST_NAME,1,3) from Worker;'))"
      ],
      "execution_count": 48,
      "outputs": []
    },
    {
      "cell_type": "code",
      "metadata": {
        "id": "1C10LyYPqrFX"
      },
      "source": [
        "gpt.add_example(Example(\"Find the position of the alphabet ('a') in the first name column 'Amitabh' from Worker table.\", \n",
        "                        \"Select INSTR(FIRST_NAME, BINARY'a') from Worker where FIRST_NAME = 'Amitabh';\"))"
      ],
      "execution_count": 49,
      "outputs": []
    },
    {
      "cell_type": "code",
      "metadata": {
        "id": "0JvjODWbsBWP"
      },
      "source": [
        "gpt.add_example(Example(\"Print the FIRST_NAME from Worker table after replacing 'a' with 'A'.\", \n",
        "                        \"Select CONCAT(FIRST_NAME, ' ', LAST_NAME) AS 'COMPLETE_NAME' from Worker;\"))"
      ],
      "execution_count": 50,
      "outputs": []
    },
    {
      "cell_type": "code",
      "metadata": {
        "id": "uNsH4OeqsKjM"
      },
      "source": [
        "gpt.add_example(Example(\"Display the second highest salary from the Worker table.\", \n",
        "                        \"Select max(Salary) from Worker where Salary not in (Select max(Salary) from Worker);\"))"
      ],
      "execution_count": 51,
      "outputs": []
    },
    {
      "cell_type": "code",
      "metadata": {
        "id": "zhXh5g-jsKnl"
      },
      "source": [
        "gpt.add_example(Example(\"Display the highest salary from the Worker table.\", \n",
        "                        \"Select max(Salary) from Worker;\"))"
      ],
      "execution_count": 52,
      "outputs": []
    },
    {
      "cell_type": "code",
      "metadata": {
        "id": "wWjmZe-Ntexm"
      },
      "source": [
        "gpt.add_example(Example(\"Fetch the count of employees working in the department Admin.\", \n",
        "                        \"SELECT COUNT(*) FROM worker WHERE DEPARTMENT = 'Admin';\"))"
      ],
      "execution_count": 53,
      "outputs": []
    },
    {
      "cell_type": "code",
      "metadata": {
        "id": "Q9xuF--Kt_xh"
      },
      "source": [
        "gpt.add_example(Example(\"Get all details of the Workers whose SALARY lies between 100000 and 500000.\", \n",
        "                        \"Select * from Worker where SALARY between 100000 and 500000;\"))"
      ],
      "execution_count": 54,
      "outputs": []
    },
    {
      "cell_type": "code",
      "metadata": {
        "id": "z5jRwDCcuauE"
      },
      "source": [
        "gpt.add_example(Example(\"Get Salary details of the Workers\", \n",
        "                        \"Select Salary from Worker\"))"
      ],
      "execution_count": 55,
      "outputs": []
    },
    {
      "cell_type": "markdown",
      "metadata": {
        "id": "3mI7FmwSu9AA"
      },
      "source": [
        "# Example 1"
      ]
    },
    {
      "cell_type": "code",
      "metadata": {
        "id": "sWSmXABfrdTm"
      },
      "source": [
        "prompt = \"Display the lowest salary from the Worker table.\""
      ],
      "execution_count": 56,
      "outputs": []
    },
    {
      "cell_type": "code",
      "metadata": {
        "id": "pVzvJtmRqTku"
      },
      "source": [
        "output = gpt.submit_request(prompt)"
      ],
      "execution_count": 57,
      "outputs": []
    },
    {
      "cell_type": "code",
      "source": [
        ""
      ],
      "metadata": {
        "id": "oynDlh9Z6vFk"
      },
      "execution_count": null,
      "outputs": []
    },
    {
      "cell_type": "code",
      "metadata": {
        "id": "niqyIPAyoLQb",
        "colab": {
          "base_uri": "https://localhost:8080/",
          "height": 35
        },
        "outputId": "a616b9d9-abe9-4ab8-88f4-74b13e634219"
      },
      "source": [
        "output.choices[0].text"
      ],
      "execution_count": 58,
      "outputs": [
        {
          "output_type": "execute_result",
          "data": {
            "application/vnd.google.colaboratory.intrinsic+json": {
              "type": "string"
            },
            "text/plain": [
              "'output: Select min(Salary) from Worker;\\n'"
            ]
          },
          "metadata": {},
          "execution_count": 58
        }
      ]
    },
    {
      "cell_type": "markdown",
      "metadata": {
        "id": "LA3DyhGJu_8o"
      },
      "source": [
        "# Example 2"
      ]
    },
    {
      "cell_type": "code",
      "metadata": {
        "id": "_OdI6bFLtpel"
      },
      "source": [
        "prompt = \"Tell me the count of employees working in the department HR.\""
      ],
      "execution_count": 59,
      "outputs": []
    },
    {
      "cell_type": "code",
      "metadata": {
        "id": "XnjQ0kfbtpkE"
      },
      "source": [
        "output = gpt.submit_request(prompt)"
      ],
      "execution_count": 60,
      "outputs": []
    },
    {
      "cell_type": "code",
      "metadata": {
        "id": "Z9Yo-bZotph4",
        "colab": {
          "base_uri": "https://localhost:8080/",
          "height": 35
        },
        "outputId": "636fff09-deab-4a90-c230-8c35db3141e6"
      },
      "source": [
        "output.choices[0].text"
      ],
      "execution_count": 61,
      "outputs": [
        {
          "output_type": "execute_result",
          "data": {
            "application/vnd.google.colaboratory.intrinsic+json": {
              "type": "string"
            },
            "text/plain": [
              "\"output: SELECT COUNT(*) FROM worker WHERE DEPARTMENT = 'HR';\\n\""
            ]
          },
          "metadata": {},
          "execution_count": 61
        }
      ]
    },
    {
      "cell_type": "markdown",
      "metadata": {
        "id": "dnB7TCA_vCkF"
      },
      "source": [
        "# Example 3"
      ]
    },
    {
      "cell_type": "code",
      "metadata": {
        "id": "GkaHZLIzt3pQ"
      },
      "source": [
        "prompt = \"Get salary details of the Workers whose AGE lies between 25 and 35\""
      ],
      "execution_count": 62,
      "outputs": []
    },
    {
      "cell_type": "code",
      "metadata": {
        "id": "G6GmvbukmLCK",
        "colab": {
          "base_uri": "https://localhost:8080/"
        },
        "outputId": "776ca2e8-69b7-4ffd-fa70-b60a65f56f28"
      },
      "source": [
        "print(gpt.get_top_reply(prompt))"
      ],
      "execution_count": 63,
      "outputs": [
        {
          "output_type": "stream",
          "name": "stdout",
          "text": [
            "output: Select Salary from Worker where AGE between 25 and 35;\n",
            "\n"
          ]
        }
      ]
    },
    {
      "cell_type": "code",
      "metadata": {
        "id": "0ZaLCw6zgqxh"
      },
      "source": [
        ""
      ],
      "execution_count": 63,
      "outputs": []
    }
  ]
}